{
 "cells": [
  {
   "cell_type": "code",
   "execution_count": 1,
   "metadata": {},
   "outputs": [
    {
     "name": "stderr",
     "output_type": "stream",
     "text": [
      "/anaconda/envs/py35/lib/python3.5/site-packages/h5py/__init__.py:36: FutureWarning: Conversion of the second argument of issubdtype from `float` to `np.floating` is deprecated. In future, it will be treated as `np.float64 == np.dtype(float).type`.\n",
      "  from ._conv import register_converters as _register_converters\n",
      "Using CNTK backend\n"
     ]
    }
   ],
   "source": [
    "%matplotlib notebook\n",
    "%matplotlib inline\n",
    "\n",
    "import os\n",
    "os.environ['KERAS_BACKEND'] = \"cntk\" # you can use \"cntk\" or \"tensorflow\"\n",
    "import time\n",
    "import datetime as dt\n",
    "import numpy as np\n",
    "from numpy import newaxis\n",
    "from numpy import array\n",
    "import matplotlib.pyplot as plt\n",
    "import pandas\n",
    "import pickle\n",
    "from urllib.request import urlretrieve\n",
    "import keras\n",
    "from keras.layers.core import Dense, Activation, Dropout\n",
    "from keras.layers.recurrent import LSTM\n",
    "from keras.models import Sequential"
   ]
  },
  {
   "cell_type": "markdown",
   "metadata": {},
   "source": [
    "# Define the TICKER time series to work with"
   ]
  },
  {
   "cell_type": "code",
   "execution_count": 2,
   "metadata": {},
   "outputs": [],
   "source": [
    "TICKER = \"MSFT\""
   ]
  },
  {
   "cell_type": "markdown",
   "metadata": {},
   "source": [
    "# Create File and Dir paths"
   ]
  },
  {
   "cell_type": "code",
   "execution_count": 87,
   "metadata": {},
   "outputs": [],
   "source": [
    "SHARE_ROOT = \"./stockdemo-model/\"\n",
    "\n",
    "MIN_MAX_DICT = SHARE_ROOT + TICKER +'-min_max.pkl'\n",
    "\n",
    "# We'll serialize the model in h5 \n",
    "LSTM_MODEL = SHARE_ROOT + TICKER +'-modellstm.h5'\n",
    "\n",
    "# and store the weights in h5\n",
    "MODEL_WEIGHTS = SHARE_ROOT + TICKER +'-modellstm-weights.h5' \n",
    "\n",
    "# path to pickle test df\n",
    "TEST_DATA_PATH = SHARE_ROOT + TICKER + '-test_score_df.pkl'"
   ]
  },
  {
   "cell_type": "markdown",
   "metadata": {},
   "source": [
    "# Load Ticker historical EOD data from Quandl"
   ]
  },
  {
   "cell_type": "code",
   "execution_count": 26,
   "metadata": {},
   "outputs": [
    {
     "name": "stdout",
     "output_type": "stream",
     "text": [
      "Downloading https://www.quandl.com/api/v3/datasets/WIKI/MSFT.csv?&start_date=2000-01-01&end_date=2018-04-01&order=asc\n",
      "Download Finished\n"
     ]
    }
   ],
   "source": [
    "start_date = \"2000-01-01\"\n",
    "end_date =   \"2018-04-01\"\n",
    "order = \"asc\"\n",
    "parameters = '?&start_date='+start_date+'&end_date='+end_date+'&order='+order\n",
    "file = SHARE_ROOT + TICKER+\".csv\"\n",
    "\n",
    "def download(url, file):\n",
    "    \"\"\"\n",
    "    Download file from <url>\n",
    "    :param url: URL to file\n",
    "    :param file: Local file path\n",
    "    \"\"\"\n",
    "    if not os.path.isfile(file):\n",
    "        print('Downloading ' + url )\n",
    "        urlretrieve(url, file)\n",
    "        print('Download Finished')\n",
    "    else:\n",
    "        print('File is already on disk')\n",
    "\n",
    "# Download  dataset.\n",
    "download('https://www.quandl.com/api/v3/datasets/WIKI/' + TICKER + '.csv' + parameters, file)"
   ]
  },
  {
   "cell_type": "code",
   "execution_count": 63,
   "metadata": {},
   "outputs": [],
   "source": [
    "data = pandas.read_csv(file, index_col='Date')\n",
    "# Converting the index as date\n",
    "data.index = pandas.to_datetime(data.index)"
   ]
  },
  {
   "cell_type": "code",
   "execution_count": 64,
   "metadata": {},
   "outputs": [
    {
     "data": {
      "text/html": [
       "<div>\n",
       "<style scoped>\n",
       "    .dataframe tbody tr th:only-of-type {\n",
       "        vertical-align: middle;\n",
       "    }\n",
       "\n",
       "    .dataframe tbody tr th {\n",
       "        vertical-align: top;\n",
       "    }\n",
       "\n",
       "    .dataframe thead th {\n",
       "        text-align: right;\n",
       "    }\n",
       "</style>\n",
       "<table border=\"1\" class=\"dataframe\">\n",
       "  <thead>\n",
       "    <tr style=\"text-align: right;\">\n",
       "      <th></th>\n",
       "      <th>Open</th>\n",
       "      <th>High</th>\n",
       "      <th>Low</th>\n",
       "      <th>Close</th>\n",
       "      <th>Volume</th>\n",
       "      <th>Ex-Dividend</th>\n",
       "      <th>Split Ratio</th>\n",
       "      <th>Adj. Open</th>\n",
       "      <th>Adj. High</th>\n",
       "      <th>Adj. Low</th>\n",
       "      <th>Adj. Close</th>\n",
       "      <th>Adj. Volume</th>\n",
       "    </tr>\n",
       "  </thead>\n",
       "  <tbody>\n",
       "    <tr>\n",
       "      <th>count</th>\n",
       "      <td>4586.000000</td>\n",
       "      <td>4586.000000</td>\n",
       "      <td>4586.000000</td>\n",
       "      <td>4586.000000</td>\n",
       "      <td>4.586000e+03</td>\n",
       "      <td>4586.000000</td>\n",
       "      <td>4586.000000</td>\n",
       "      <td>4586.000000</td>\n",
       "      <td>4586.000000</td>\n",
       "      <td>4586.000000</td>\n",
       "      <td>4586.000000</td>\n",
       "      <td>4.586000e+03</td>\n",
       "    </tr>\n",
       "    <tr>\n",
       "      <th>mean</th>\n",
       "      <td>40.286633</td>\n",
       "      <td>40.755574</td>\n",
       "      <td>39.826630</td>\n",
       "      <td>40.288769</td>\n",
       "      <td>5.135335e+07</td>\n",
       "      <td>0.003055</td>\n",
       "      <td>1.000218</td>\n",
       "      <td>29.078012</td>\n",
       "      <td>29.373682</td>\n",
       "      <td>28.787272</td>\n",
       "      <td>29.083795</td>\n",
       "      <td>5.799623e+07</td>\n",
       "    </tr>\n",
       "    <tr>\n",
       "      <th>std</th>\n",
       "      <td>18.614374</td>\n",
       "      <td>18.899496</td>\n",
       "      <td>18.321689</td>\n",
       "      <td>18.602692</td>\n",
       "      <td>2.875247e+07</td>\n",
       "      <td>0.051648</td>\n",
       "      <td>0.014767</td>\n",
       "      <td>16.089370</td>\n",
       "      <td>16.182702</td>\n",
       "      <td>15.986585</td>\n",
       "      <td>16.094881</td>\n",
       "      <td>3.166583e+07</td>\n",
       "    </tr>\n",
       "    <tr>\n",
       "      <th>min</th>\n",
       "      <td>15.200000</td>\n",
       "      <td>15.620000</td>\n",
       "      <td>14.870000</td>\n",
       "      <td>15.150000</td>\n",
       "      <td>5.850800e+06</td>\n",
       "      <td>0.000000</td>\n",
       "      <td>1.000000</td>\n",
       "      <td>12.154701</td>\n",
       "      <td>12.490554</td>\n",
       "      <td>11.890816</td>\n",
       "      <td>12.114718</td>\n",
       "      <td>7.425503e+06</td>\n",
       "    </tr>\n",
       "    <tr>\n",
       "      <th>25%</th>\n",
       "      <td>26.696250</td>\n",
       "      <td>26.930000</td>\n",
       "      <td>26.470000</td>\n",
       "      <td>26.690000</td>\n",
       "      <td>3.225230e+07</td>\n",
       "      <td>0.000000</td>\n",
       "      <td>1.000000</td>\n",
       "      <td>19.325016</td>\n",
       "      <td>19.554843</td>\n",
       "      <td>19.091851</td>\n",
       "      <td>19.325016</td>\n",
       "      <td>3.686569e+07</td>\n",
       "    </tr>\n",
       "    <tr>\n",
       "      <th>50%</th>\n",
       "      <td>30.300000</td>\n",
       "      <td>30.605000</td>\n",
       "      <td>30.055000</td>\n",
       "      <td>30.320000</td>\n",
       "      <td>4.675009e+07</td>\n",
       "      <td>0.000000</td>\n",
       "      <td>1.000000</td>\n",
       "      <td>22.564576</td>\n",
       "      <td>22.846906</td>\n",
       "      <td>22.354119</td>\n",
       "      <td>22.589808</td>\n",
       "      <td>5.290715e+07</td>\n",
       "    </tr>\n",
       "    <tr>\n",
       "      <th>75%</th>\n",
       "      <td>52.655000</td>\n",
       "      <td>53.496250</td>\n",
       "      <td>51.885000</td>\n",
       "      <td>52.735000</td>\n",
       "      <td>6.303825e+07</td>\n",
       "      <td>0.000000</td>\n",
       "      <td>1.000000</td>\n",
       "      <td>32.361858</td>\n",
       "      <td>32.704246</td>\n",
       "      <td>31.917774</td>\n",
       "      <td>32.314573</td>\n",
       "      <td>7.141460e+07</td>\n",
       "    </tr>\n",
       "    <tr>\n",
       "      <th>max</th>\n",
       "      <td>117.370000</td>\n",
       "      <td>118.620000</td>\n",
       "      <td>112.250000</td>\n",
       "      <td>116.560000</td>\n",
       "      <td>5.910522e+08</td>\n",
       "      <td>3.080000</td>\n",
       "      <td>2.000000</td>\n",
       "      <td>97.000000</td>\n",
       "      <td>97.240000</td>\n",
       "      <td>96.040000</td>\n",
       "      <td>96.770000</td>\n",
       "      <td>5.910522e+08</td>\n",
       "    </tr>\n",
       "  </tbody>\n",
       "</table>\n",
       "</div>"
      ],
      "text/plain": [
       "              Open         High          Low        Close        Volume  \\\n",
       "count  4586.000000  4586.000000  4586.000000  4586.000000  4.586000e+03   \n",
       "mean     40.286633    40.755574    39.826630    40.288769  5.135335e+07   \n",
       "std      18.614374    18.899496    18.321689    18.602692  2.875247e+07   \n",
       "min      15.200000    15.620000    14.870000    15.150000  5.850800e+06   \n",
       "25%      26.696250    26.930000    26.470000    26.690000  3.225230e+07   \n",
       "50%      30.300000    30.605000    30.055000    30.320000  4.675009e+07   \n",
       "75%      52.655000    53.496250    51.885000    52.735000  6.303825e+07   \n",
       "max     117.370000   118.620000   112.250000   116.560000  5.910522e+08   \n",
       "\n",
       "       Ex-Dividend  Split Ratio    Adj. Open    Adj. High     Adj. Low  \\\n",
       "count  4586.000000  4586.000000  4586.000000  4586.000000  4586.000000   \n",
       "mean      0.003055     1.000218    29.078012    29.373682    28.787272   \n",
       "std       0.051648     0.014767    16.089370    16.182702    15.986585   \n",
       "min       0.000000     1.000000    12.154701    12.490554    11.890816   \n",
       "25%       0.000000     1.000000    19.325016    19.554843    19.091851   \n",
       "50%       0.000000     1.000000    22.564576    22.846906    22.354119   \n",
       "75%       0.000000     1.000000    32.361858    32.704246    31.917774   \n",
       "max       3.080000     2.000000    97.000000    97.240000    96.040000   \n",
       "\n",
       "        Adj. Close   Adj. Volume  \n",
       "count  4586.000000  4.586000e+03  \n",
       "mean     29.083795  5.799623e+07  \n",
       "std      16.094881  3.166583e+07  \n",
       "min      12.114718  7.425503e+06  \n",
       "25%      19.325016  3.686569e+07  \n",
       "50%      22.589808  5.290715e+07  \n",
       "75%      32.314573  7.141460e+07  \n",
       "max      96.770000  5.910522e+08  "
      ]
     },
     "execution_count": 64,
     "metadata": {},
     "output_type": "execute_result"
    }
   ],
   "source": [
    "data.describe()"
   ]
  },
  {
   "cell_type": "code",
   "execution_count": 65,
   "metadata": {},
   "outputs": [
    {
     "data": {
      "text/html": [
       "<div>\n",
       "<style scoped>\n",
       "    .dataframe tbody tr th:only-of-type {\n",
       "        vertical-align: middle;\n",
       "    }\n",
       "\n",
       "    .dataframe tbody tr th {\n",
       "        vertical-align: top;\n",
       "    }\n",
       "\n",
       "    .dataframe thead th {\n",
       "        text-align: right;\n",
       "    }\n",
       "</style>\n",
       "<table border=\"1\" class=\"dataframe\">\n",
       "  <thead>\n",
       "    <tr style=\"text-align: right;\">\n",
       "      <th></th>\n",
       "      <th>Open</th>\n",
       "      <th>High</th>\n",
       "      <th>Low</th>\n",
       "      <th>Close</th>\n",
       "      <th>Volume</th>\n",
       "      <th>Ex-Dividend</th>\n",
       "      <th>Split Ratio</th>\n",
       "      <th>Adj. Open</th>\n",
       "      <th>Adj. High</th>\n",
       "      <th>Adj. Low</th>\n",
       "      <th>Adj. Close</th>\n",
       "      <th>Adj. Volume</th>\n",
       "    </tr>\n",
       "    <tr>\n",
       "      <th>Date</th>\n",
       "      <th></th>\n",
       "      <th></th>\n",
       "      <th></th>\n",
       "      <th></th>\n",
       "      <th></th>\n",
       "      <th></th>\n",
       "      <th></th>\n",
       "      <th></th>\n",
       "      <th></th>\n",
       "      <th></th>\n",
       "      <th></th>\n",
       "      <th></th>\n",
       "    </tr>\n",
       "  </thead>\n",
       "  <tbody>\n",
       "    <tr>\n",
       "      <th>2018-03-21</th>\n",
       "      <td>92.930</td>\n",
       "      <td>94.050</td>\n",
       "      <td>92.21</td>\n",
       "      <td>92.48</td>\n",
       "      <td>23753263.0</td>\n",
       "      <td>0.0</td>\n",
       "      <td>1.0</td>\n",
       "      <td>92.930</td>\n",
       "      <td>94.050</td>\n",
       "      <td>92.21</td>\n",
       "      <td>92.48</td>\n",
       "      <td>23753263.0</td>\n",
       "    </tr>\n",
       "    <tr>\n",
       "      <th>2018-03-22</th>\n",
       "      <td>91.265</td>\n",
       "      <td>91.750</td>\n",
       "      <td>89.66</td>\n",
       "      <td>89.79</td>\n",
       "      <td>37578166.0</td>\n",
       "      <td>0.0</td>\n",
       "      <td>1.0</td>\n",
       "      <td>91.265</td>\n",
       "      <td>91.750</td>\n",
       "      <td>89.66</td>\n",
       "      <td>89.79</td>\n",
       "      <td>37578166.0</td>\n",
       "    </tr>\n",
       "    <tr>\n",
       "      <th>2018-03-23</th>\n",
       "      <td>89.500</td>\n",
       "      <td>90.460</td>\n",
       "      <td>87.08</td>\n",
       "      <td>87.18</td>\n",
       "      <td>42159397.0</td>\n",
       "      <td>0.0</td>\n",
       "      <td>1.0</td>\n",
       "      <td>89.500</td>\n",
       "      <td>90.460</td>\n",
       "      <td>87.08</td>\n",
       "      <td>87.18</td>\n",
       "      <td>42159397.0</td>\n",
       "    </tr>\n",
       "    <tr>\n",
       "      <th>2018-03-26</th>\n",
       "      <td>90.610</td>\n",
       "      <td>94.000</td>\n",
       "      <td>90.40</td>\n",
       "      <td>93.78</td>\n",
       "      <td>55031149.0</td>\n",
       "      <td>0.0</td>\n",
       "      <td>1.0</td>\n",
       "      <td>90.610</td>\n",
       "      <td>94.000</td>\n",
       "      <td>90.40</td>\n",
       "      <td>93.78</td>\n",
       "      <td>55031149.0</td>\n",
       "    </tr>\n",
       "    <tr>\n",
       "      <th>2018-03-27</th>\n",
       "      <td>94.940</td>\n",
       "      <td>95.139</td>\n",
       "      <td>88.51</td>\n",
       "      <td>89.47</td>\n",
       "      <td>53704562.0</td>\n",
       "      <td>0.0</td>\n",
       "      <td>1.0</td>\n",
       "      <td>94.940</td>\n",
       "      <td>95.139</td>\n",
       "      <td>88.51</td>\n",
       "      <td>89.47</td>\n",
       "      <td>53704562.0</td>\n",
       "    </tr>\n",
       "  </tbody>\n",
       "</table>\n",
       "</div>"
      ],
      "text/plain": [
       "              Open    High    Low  Close      Volume  Ex-Dividend  \\\n",
       "Date                                                                \n",
       "2018-03-21  92.930  94.050  92.21  92.48  23753263.0          0.0   \n",
       "2018-03-22  91.265  91.750  89.66  89.79  37578166.0          0.0   \n",
       "2018-03-23  89.500  90.460  87.08  87.18  42159397.0          0.0   \n",
       "2018-03-26  90.610  94.000  90.40  93.78  55031149.0          0.0   \n",
       "2018-03-27  94.940  95.139  88.51  89.47  53704562.0          0.0   \n",
       "\n",
       "            Split Ratio  Adj. Open  Adj. High  Adj. Low  Adj. Close  \\\n",
       "Date                                                                  \n",
       "2018-03-21          1.0     92.930     94.050     92.21       92.48   \n",
       "2018-03-22          1.0     91.265     91.750     89.66       89.79   \n",
       "2018-03-23          1.0     89.500     90.460     87.08       87.18   \n",
       "2018-03-26          1.0     90.610     94.000     90.40       93.78   \n",
       "2018-03-27          1.0     94.940     95.139     88.51       89.47   \n",
       "\n",
       "            Adj. Volume  \n",
       "Date                     \n",
       "2018-03-21   23753263.0  \n",
       "2018-03-22   37578166.0  \n",
       "2018-03-23   42159397.0  \n",
       "2018-03-26   55031149.0  \n",
       "2018-03-27   53704562.0  "
      ]
     },
     "execution_count": 65,
     "metadata": {},
     "output_type": "execute_result"
    }
   ],
   "source": [
    "data.tail()"
   ]
  },
  {
   "cell_type": "code",
   "execution_count": 66,
   "metadata": {},
   "outputs": [],
   "source": [
    "data.drop(columns=['Adj. Open','Adj. High','Adj. Low','Adj. Volume','Adj. Close', 'Ex-Dividend', 'Split Ratio'], inplace=True)"
   ]
  },
  {
   "cell_type": "markdown",
   "metadata": {},
   "source": [
    "## Plotting/Visualization of the Data"
   ]
  },
  {
   "cell_type": "code",
   "execution_count": 67,
   "metadata": {},
   "outputs": [
    {
     "data": {
      "text/plain": [
       "Text(0,0.5,'Volume')"
      ]
     },
     "execution_count": 67,
     "metadata": {},
     "output_type": "execute_result"
    },
    {
     "data": {
      "image/png": "[encoded data removed]",
      "text/plain": [
       "<matplotlib.figure.Figure at 0x7ff431d397b8>"
      ]
     },
     "metadata": {},
     "output_type": "display_data"
    }
   ],
   "source": [
    "plt.figure(figsize=(16,9))\n",
    "top = plt.subplot2grid((4,4), (0, 0), rowspan=3, colspan=4)\n",
    "bottom = plt.subplot2grid((4,4), (3,0), rowspan=1, colspan=4)\n",
    "top.plot(data.index, data['Close']) #CMT.index gives the dates\n",
    "bottom.bar(data.index, data['Volume']) \n",
    " \n",
    "# set the labels\n",
    "top.axes.get_xaxis().set_visible(False)\n",
    "top.set_title('CapitalMall Trust')\n",
    "top.set_ylabel('Closing Price')\n",
    "bottom.set_ylabel('Volume')"
   ]
  },
  {
   "cell_type": "code",
   "execution_count": 68,
   "metadata": {},
   "outputs": [
    {
     "data": {
      "text/plain": [
       "<matplotlib.axes._subplots.AxesSubplot at 0x7ff40e3ea588>"
      ]
     },
     "execution_count": 68,
     "metadata": {},
     "output_type": "execute_result"
    },
    {
     "data": {
      "image/png": "[encoded data removed]",
      "text/plain": [
       "<matplotlib.figure.Figure at 0x7ff40e3ea4a8>"
      ]
     },
     "metadata": {},
     "output_type": "display_data"
    }
   ],
   "source": [
    "import seaborn as sns\n",
    "plt.figure(figsize=(16,9))\n",
    "sns.distplot(data['Close'].dropna(), bins=50, color='purple')"
   ]
  },
  {
   "cell_type": "markdown",
   "metadata": {},
   "source": [
    "## Save Scoring Test Dataset as pickle for later use"
   ]
  },
  {
   "cell_type": "code",
   "execution_count": 70,
   "metadata": {},
   "outputs": [],
   "source": [
    "test_df = data.iloc[-10:]\n",
    "test_df.to_pickle(TEST_DATA_PATH)"
   ]
  },
  {
   "cell_type": "markdown",
   "metadata": {},
   "source": [
    "# Data Normalization and Columns pick"
   ]
  },
  {
   "cell_type": "code",
   "execution_count": 71,
   "metadata": {},
   "outputs": [],
   "source": [
    "def normalize(df):\n",
    "    result = df.copy()\n",
    "    min_dict = {}\n",
    "    max_dict = {}\n",
    "    \n",
    "    for feature_name in df.columns:\n",
    "        max_value = df[feature_name].max()\n",
    "        min_value = df[feature_name].min()\n",
    "        max_dict[feature_name] = max_value;\n",
    "        min_dict[feature_name] = min_value;\n",
    "        result[feature_name] = (df[feature_name] - min_value) / (max_value - min_value)\n",
    "        \n",
    "    min_max_dict_list = [min_dict, max_dict]\n",
    "    \n",
    "    return result, min_max_dict_list"
   ]
  },
  {
   "cell_type": "code",
   "execution_count": 72,
   "metadata": {},
   "outputs": [],
   "source": [
    "df,  min_max_dict_list = normalize(data)"
   ]
  },
  {
   "cell_type": "code",
   "execution_count": 73,
   "metadata": {},
   "outputs": [],
   "source": [
    "df = df.astype('float32')"
   ]
  },
  {
   "cell_type": "code",
   "execution_count": 74,
   "metadata": {},
   "outputs": [
    {
     "name": "stdout",
     "output_type": "stream",
     "text": [
      "{'High': 15.62, 'Low': 14.87, 'Open': 15.2, 'Volume': 5850800.0, 'Close': 15.15}\n",
      "{'High': 118.62, 'Low': 112.25, 'Open': 117.37, 'Volume': 591052200.0, 'Close': 116.56}\n"
     ]
    }
   ],
   "source": [
    "print(min_max_dict_list[0]) # minimum values per column\n",
    "print(min_max_dict_list[1]) # maximum values per column"
   ]
  },
  {
   "cell_type": "markdown",
   "metadata": {},
   "source": [
    "# Add the Target column - X days in the future prediction"
   ]
  },
  {
   "cell_type": "code",
   "execution_count": 75,
   "metadata": {},
   "outputs": [],
   "source": [
    "shift_days_target = 3"
   ]
  },
  {
   "cell_type": "code",
   "execution_count": 76,
   "metadata": {},
   "outputs": [],
   "source": [
    "## Add the target (price X days in the future)\n",
    "df['target'] = df.Close.shift(-shift_days_target)"
   ]
  },
  {
   "cell_type": "code",
   "execution_count": 77,
   "metadata": {},
   "outputs": [],
   "source": [
    "df.dropna(inplace=True)"
   ]
  },
  {
   "cell_type": "code",
   "execution_count": 78,
   "metadata": {},
   "outputs": [
    {
     "data": {
      "text/html": [
       "<div>\n",
       "<style scoped>\n",
       "    .dataframe tbody tr th:only-of-type {\n",
       "        vertical-align: middle;\n",
       "    }\n",
       "\n",
       "    .dataframe tbody tr th {\n",
       "        vertical-align: top;\n",
       "    }\n",
       "\n",
       "    .dataframe thead th {\n",
       "        text-align: right;\n",
       "    }\n",
       "</style>\n",
       "<table border=\"1\" class=\"dataframe\">\n",
       "  <thead>\n",
       "    <tr style=\"text-align: right;\">\n",
       "      <th></th>\n",
       "      <th>Open</th>\n",
       "      <th>High</th>\n",
       "      <th>Low</th>\n",
       "      <th>Close</th>\n",
       "      <th>Volume</th>\n",
       "      <th>target</th>\n",
       "    </tr>\n",
       "    <tr>\n",
       "      <th>Date</th>\n",
       "      <th></th>\n",
       "      <th></th>\n",
       "      <th></th>\n",
       "      <th></th>\n",
       "      <th></th>\n",
       "      <th></th>\n",
       "    </tr>\n",
       "  </thead>\n",
       "  <tbody>\n",
       "    <tr>\n",
       "      <th>2000-01-03</th>\n",
       "      <td>1.000000</td>\n",
       "      <td>1.000000</td>\n",
       "      <td>0.997433</td>\n",
       "      <td>1.000000</td>\n",
       "      <td>0.035481</td>\n",
       "      <td>0.935312</td>\n",
       "    </tr>\n",
       "    <tr>\n",
       "      <th>2000-01-04</th>\n",
       "      <td>0.962709</td>\n",
       "      <td>0.985437</td>\n",
       "      <td>1.000000</td>\n",
       "      <td>0.961148</td>\n",
       "      <td>0.036242</td>\n",
       "      <td>0.949512</td>\n",
       "    </tr>\n",
       "    <tr>\n",
       "      <th>2000-01-05</th>\n",
       "      <td>0.938827</td>\n",
       "      <td>0.978155</td>\n",
       "      <td>0.970425</td>\n",
       "      <td>0.972882</td>\n",
       "      <td>0.044735</td>\n",
       "      <td>0.957499</td>\n",
       "    </tr>\n",
       "    <tr>\n",
       "      <th>2000-01-06</th>\n",
       "      <td>0.949300</td>\n",
       "      <td>0.953883</td>\n",
       "      <td>0.960156</td>\n",
       "      <td>0.935312</td>\n",
       "      <td>0.036974</td>\n",
       "      <td>0.929100</td>\n",
       "    </tr>\n",
       "    <tr>\n",
       "      <th>2000-01-07</th>\n",
       "      <td>0.914358</td>\n",
       "      <td>0.938155</td>\n",
       "      <td>0.949271</td>\n",
       "      <td>0.949512</td>\n",
       "      <td>0.042987</td>\n",
       "      <td>0.893995</td>\n",
       "    </tr>\n",
       "    <tr>\n",
       "      <th>2000-01-10</th>\n",
       "      <td>0.961535</td>\n",
       "      <td>0.952136</td>\n",
       "      <td>0.990963</td>\n",
       "      <td>0.957499</td>\n",
       "      <td>0.028419</td>\n",
       "      <td>0.913717</td>\n",
       "    </tr>\n",
       "    <tr>\n",
       "      <th>2000-01-11</th>\n",
       "      <td>0.942547</td>\n",
       "      <td>0.957573</td>\n",
       "      <td>0.963442</td>\n",
       "      <td>0.929100</td>\n",
       "      <td>0.029940</td>\n",
       "      <td>0.957499</td>\n",
       "    </tr>\n",
       "    <tr>\n",
       "      <th>2000-01-12</th>\n",
       "      <td>0.913184</td>\n",
       "      <td>0.905340</td>\n",
       "      <td>0.919799</td>\n",
       "      <td>0.893995</td>\n",
       "      <td>0.046848</td>\n",
       "      <td>0.987674</td>\n",
       "    </tr>\n",
       "    <tr>\n",
       "      <th>2000-01-13</th>\n",
       "      <td>0.872761</td>\n",
       "      <td>0.902913</td>\n",
       "      <td>0.889608</td>\n",
       "      <td>0.913717</td>\n",
       "      <td>0.061041</td>\n",
       "      <td>0.905729</td>\n",
       "    </tr>\n",
       "    <tr>\n",
       "      <th>2000-01-14</th>\n",
       "      <td>0.900362</td>\n",
       "      <td>0.954563</td>\n",
       "      <td>0.933251</td>\n",
       "      <td>0.957499</td>\n",
       "      <td>0.052730</td>\n",
       "      <td>0.895868</td>\n",
       "    </tr>\n",
       "  </tbody>\n",
       "</table>\n",
       "</div>"
      ],
      "text/plain": [
       "                Open      High       Low     Close    Volume    target\n",
       "Date                                                                  \n",
       "2000-01-03  1.000000  1.000000  0.997433  1.000000  0.035481  0.935312\n",
       "2000-01-04  0.962709  0.985437  1.000000  0.961148  0.036242  0.949512\n",
       "2000-01-05  0.938827  0.978155  0.970425  0.972882  0.044735  0.957499\n",
       "2000-01-06  0.949300  0.953883  0.960156  0.935312  0.036974  0.929100\n",
       "2000-01-07  0.914358  0.938155  0.949271  0.949512  0.042987  0.893995\n",
       "2000-01-10  0.961535  0.952136  0.990963  0.957499  0.028419  0.913717\n",
       "2000-01-11  0.942547  0.957573  0.963442  0.929100  0.029940  0.957499\n",
       "2000-01-12  0.913184  0.905340  0.919799  0.893995  0.046848  0.987674\n",
       "2000-01-13  0.872761  0.902913  0.889608  0.913717  0.061041  0.905729\n",
       "2000-01-14  0.900362  0.954563  0.933251  0.957499  0.052730  0.895868"
      ]
     },
     "execution_count": 78,
     "metadata": {},
     "output_type": "execute_result"
    }
   ],
   "source": [
    "df.head(10)"
   ]
  },
  {
   "cell_type": "markdown",
   "metadata": {},
   "source": [
    "# Function to load/prepare data for modeling"
   ]
  },
  {
   "cell_type": "code",
   "execution_count": 79,
   "metadata": {},
   "outputs": [],
   "source": [
    "def prepare_data_for_modeling(stock, seq_len):\n",
    "    data = stock.values #converts to numpy\n",
    "    result = []\n",
    "    for index in range(len(data) - seq_len + 1):\n",
    "        result.append(data[index: index + seq_len])\n",
    "\n",
    "    result = np.array(result)    \n",
    "    row = round(0.9 * result.shape[0])\n",
    "    train = result[:int(row), :]\n",
    "    x_train = train[:,:,:-1] # All rows, all time steps, all feauture minus de last column\n",
    "    y_train = train[:,-1,-1] # All rows, only the last step, the last column\n",
    "    x_test = result[int(row):,:,:-1] \n",
    "    y_test = result[int(row):,-1,-1]\n",
    "\n",
    "    return [x_train, y_train, x_test, y_test]"
   ]
  },
  {
   "cell_type": "markdown",
   "metadata": {},
   "source": [
    "# Function to define the RNN model"
   ]
  },
  {
   "cell_type": "code",
   "execution_count": 80,
   "metadata": {},
   "outputs": [],
   "source": [
    "def build_model(moving_window, num_features):\n",
    "        d = 0.3\n",
    "        model = Sequential()\n",
    "        model.add(LSTM(96, input_shape=(moving_window, num_features), return_sequences=False))\n",
    "        model.add(Dropout(d))\n",
    "        model.add(Dense(16, kernel_initializer=\"uniform\", activation=\"relu\"))\n",
    "        model.add(Dense(1, kernel_initializer=\"uniform\",activation='relu'))\n",
    "        model.compile(loss='mse', optimizer='adam', metrics=['mae'])\n",
    "        return model"
   ]
  },
  {
   "cell_type": "markdown",
   "metadata": {},
   "source": [
    "# Run the model"
   ]
  },
  {
   "cell_type": "code",
   "execution_count": 81,
   "metadata": {},
   "outputs": [
    {
     "name": "stdout",
     "output_type": "stream",
     "text": [
      "X_train (4117, 10, 5)\n",
      "y_train (4117,)\n",
      "X_test (457, 10, 5)\n",
      "y_test (457,)\n"
     ]
    }
   ],
   "source": [
    "window = 10\n",
    "X_train, y_train, X_test, y_test = prepare_data_for_modeling(df, window)\n",
    "print(\"X_train\", X_train.shape)\n",
    "print(\"y_train\", y_train.shape)\n",
    "print(\"X_test\", X_test.shape)\n",
    "print(\"y_test\", y_test.shape)"
   ]
  },
  {
   "cell_type": "code",
   "execution_count": 82,
   "metadata": {},
   "outputs": [],
   "source": [
    "model = build_model(len(X_train[0]),len(X_train[0][0]))"
   ]
  },
  {
   "cell_type": "code",
   "execution_count": 83,
   "metadata": {},
   "outputs": [
    {
     "name": "stdout",
     "output_type": "stream",
     "text": [
      "_________________________________________________________________\n",
      "Layer (type)                 Output Shape              Param #   \n",
      "=================================================================\n",
      "lstm_2 (LSTM)                (None, 96)                39168     \n",
      "_________________________________________________________________\n",
      "dropout_2 (Dropout)          (None, 96)                0         \n",
      "_________________________________________________________________\n",
      "dense_3 (Dense)              (None, 16)                1552      \n",
      "_________________________________________________________________\n",
      "dense_4 (Dense)              (None, 1)                 17        \n",
      "=================================================================\n",
      "Total params: 40,737\n",
      "Trainable params: 40,737\n",
      "Non-trainable params: 0\n",
      "_________________________________________________________________\n",
      "None\n"
     ]
    }
   ],
   "source": [
    "# Verify the architecture \n",
    "print(model.summary())"
   ]
  },
  {
   "cell_type": "code",
   "execution_count": 84,
   "metadata": {},
   "outputs": [],
   "source": [
    "# checkpoint callback\n",
    "checkpoint = keras.callbacks.ModelCheckpoint(MODEL_WEIGHTS, monitor='val_loss', verbose=1, save_best_only=True, mode='min')"
   ]
  },
  {
   "cell_type": "code",
   "execution_count": 85,
   "metadata": {},
   "outputs": [],
   "source": [
    "# early stop callback\n",
    "earlystop = keras.callbacks.EarlyStopping(monitor='val_loss', min_delta=0, patience=200, verbose=1, mode='min')"
   ]
  },
  {
   "cell_type": "code",
   "execution_count": 86,
   "metadata": {},
   "outputs": [
    {
     "data": {
      "image/png": "[encoded data removed]",
      "text/plain": [
       "<matplotlib.figure.Figure at 0x7ff3d9f42128>"
      ]
     },
     "metadata": {},
     "output_type": "display_data"
    },
    {
     "name": "stdout",
     "output_type": "stream",
     "text": [
      "\n",
      "Epoch 01500: val_loss did not improve\n",
      "CPU times: user 8min 26s, sys: 8.46 s, total: 8min 34s\n",
      "Wall time: 8min 29s\n"
     ]
    }
   ],
   "source": [
    "%%time\n",
    "from livelossplot import PlotLossesKeras\n",
    "\n",
    "#Step 3 Train the model\n",
    "history = model.fit(\n",
    "    X_train,\n",
    "    y_train,\n",
    "    batch_size=512,\n",
    "    epochs=1500,\n",
    "    validation_split=0.1,\n",
    "    verbose=0,\n",
    "    callbacks=[PlotLossesKeras(), checkpoint, earlystop])"
   ]
  },
  {
   "cell_type": "markdown",
   "metadata": {},
   "source": [
    "# Check and plot results"
   ]
  },
  {
   "cell_type": "markdown",
   "metadata": {},
   "source": [
    "### Naive evaluation (assume that pred = current day close)"
   ]
  },
  {
   "cell_type": "code",
   "execution_count": 88,
   "metadata": {},
   "outputs": [
    {
     "name": "stdout",
     "output_type": "stream",
     "text": [
      "0.00016997733\n"
     ]
    }
   ],
   "source": [
    "from sklearn.metrics import mean_squared_error\n",
    "\n",
    "y_naive = np.roll(y_test,shift_days_target)\n",
    "naiveScore = mean_squared_error(y_test[shift_days_target:], y_naive[shift_days_target:], multioutput='uniform_average')\n",
    "\n",
    "print(naiveScore)"
   ]
  },
  {
   "cell_type": "code",
   "execution_count": 89,
   "metadata": {},
   "outputs": [
    {
     "name": "stdout",
     "output_type": "stream",
     "text": [
      "Train Score: 0.00025678 MSE (0.01602 RMSE)\n",
      "Test Score: 0.00045204 MSE (0.02126 RMSE)\n"
     ]
    }
   ],
   "source": [
    "import math\n",
    "\n",
    "trainScore = model.evaluate(X_train, y_train, verbose=0)\n",
    "print('Train Score: %.8f MSE (%.5f RMSE)' % (trainScore[0], math.sqrt(trainScore[0])))\n",
    "\n",
    "testScore = model.evaluate(X_test, y_test, verbose=0)\n",
    "print('Test Score: %.8f MSE (%.5f RMSE)' % (testScore[0], math.sqrt(testScore[0])))"
   ]
  },
  {
   "cell_type": "code",
   "execution_count": 90,
   "metadata": {},
   "outputs": [
    {
     "name": "stdout",
     "output_type": "stream",
     "text": [
      "Best Weights loaded\n",
      "Train Score: 0.00026048 MSE (0.01614 RMSE)\n",
      "Test Score: 0.00035954 MSE (0.01896 RMSE)\n"
     ]
    }
   ],
   "source": [
    "#bring the best weights and see test scores again\n",
    "\n",
    "# load weights into new model\n",
    "model.load_weights(MODEL_WEIGHTS)\n",
    "print(\"Best Weights loaded\")\n",
    "\n",
    "trainScore = model.evaluate(X_train, y_train, verbose=0)\n",
    "print('Train Score: %.8f MSE (%.5f RMSE)' % (trainScore[0], math.sqrt(trainScore[0])))\n",
    "\n",
    "testScore = model.evaluate(X_test, y_test, verbose=0)\n",
    "print('Test Score: %.8f MSE (%.5f RMSE)' % (testScore[0], math.sqrt(testScore[0])))"
   ]
  },
  {
   "cell_type": "code",
   "execution_count": 91,
   "metadata": {},
   "outputs": [],
   "source": [
    "yhat = model.predict(X_test)"
   ]
  },
  {
   "cell_type": "code",
   "execution_count": 92,
   "metadata": {},
   "outputs": [
    {
     "data": {
      "application/javascript": [
       "IPython.OutputArea.prototype._should_scroll = function(lines) {\n",
       "    return false;\n",
       "}"
      ],
      "text/plain": [
       "<IPython.core.display.Javascript object>"
      ]
     },
     "metadata": {},
     "output_type": "display_data"
    }
   ],
   "source": [
    "%%javascript\n",
    "IPython.OutputArea.prototype._should_scroll = function(lines) {\n",
    "    return false;\n",
    "}"
   ]
  },
  {
   "cell_type": "code",
   "execution_count": 93,
   "metadata": {
    "scrolled": true
   },
   "outputs": [
    {
     "data": {
      "image/png": "[encoded data removed]",
      "text/plain": [
       "<matplotlib.figure.Figure at 0x7ff3ed0dcd68>"
      ]
     },
     "metadata": {},
     "output_type": "display_data"
    }
   ],
   "source": [
    "plt.plot(yhat[shift_days_target:],color='green', label='prediction_best')\n",
    "plt.plot(y_naive[shift_days_target:],color='orange', label='prediction_naive')\n",
    "plt.plot(y_test[shift_days_target:],color='blue', label='y_test')\n",
    "plt.legend(loc='lower left')\n",
    "plt.show()"
   ]
  },
  {
   "cell_type": "markdown",
   "metadata": {},
   "source": [
    "# Saving the model\n",
    "The LSTM network is made up of two components, the architecture and the model weights. We already has the best weights loaded, so we now need to save the model and weights together in one h5 file."
   ]
  },
  {
   "cell_type": "code",
   "execution_count": 95,
   "metadata": {},
   "outputs": [
    {
     "name": "stdout",
     "output_type": "stream",
     "text": [
      "Model saved\n"
     ]
    }
   ],
   "source": [
    "# save model\n",
    "model.save(LSTM_MODEL)\n",
    "print(\"Model saved\")"
   ]
  },
  {
   "cell_type": "markdown",
   "metadata": {},
   "source": [
    "# Saving the MIN and MAX values of each column\n",
    "We need to save these values max_dict and min_dict into a pickle file, because we are going to need them later in operationalization of the model in order to transfor the realtime data"
   ]
  },
  {
   "cell_type": "code",
   "execution_count": 96,
   "metadata": {},
   "outputs": [
    {
     "name": "stdout",
     "output_type": "stream",
     "text": [
      "Min-Max values saved\n"
     ]
    }
   ],
   "source": [
    "with open(MIN_MAX_DICT, 'wb') as handle:\n",
    "    pickle.dump(min_max_dict_list, handle, protocol=pickle.HIGHEST_PROTOCOL)\n",
    "print(\"Min-Max values saved\")"
   ]
  },
  {
   "cell_type": "markdown",
   "metadata": {},
   "source": [
    "To test the save operations, we can reload the model files into a test model loaded_model and rescore the test dataset."
   ]
  },
  {
   "cell_type": "code",
   "execution_count": 97,
   "metadata": {},
   "outputs": [
    {
     "name": "stdout",
     "output_type": "stream",
     "text": [
      "Model Loaded\n",
      "Min_max List loaded\n"
     ]
    }
   ],
   "source": [
    "from keras.models import load_model\n",
    "\n",
    "# returns a compiled model\n",
    "# identical to the previous one\n",
    "loaded_model = load_model(LSTM_MODEL)\n",
    "print(\"Model Loaded\")\n",
    "\n",
    "# Load Min Max list values\n",
    "with open(MIN_MAX_DICT, 'rb') as handle:\n",
    "    loaded_min_max_dict_list = pickle.load(handle)\n",
    "\n",
    "if (min_max_dict_list == loaded_min_max_dict_list):\n",
    "    print(\"Min_max List loaded\")\n"
   ]
  },
  {
   "cell_type": "markdown",
   "metadata": {},
   "source": [
    "The model constructed from storage can be used to predict"
   ]
  },
  {
   "cell_type": "code",
   "execution_count": 98,
   "metadata": {},
   "outputs": [
    {
     "name": "stdout",
     "output_type": "stream",
     "text": [
      "[[[0.3484389  0.35281554 0.36845347 0.36170003 0.02423305]\n",
      "  [0.35744348 0.3505825  0.36444855 0.34868357 0.03751309]\n",
      "  [0.34530684 0.34485435 0.3638324  0.35164186 0.0325644 ]\n",
      "  [0.34520897 0.3398058  0.35890326 0.34680998 0.03074422]\n",
      "  [0.34530684 0.34563106 0.3648593  0.34976828 0.03085257]\n",
      "  [0.34648135 0.34038836 0.36054632 0.3439503  0.03463409]\n",
      "  [0.34746012 0.35038835 0.3648593  0.3593334  0.04939691]\n",
      "  [0.359401   0.35796118 0.37913328 0.3645597  0.03136316]\n",
      "  [0.3594989  0.3530029  0.3747176  0.3622917  0.03158643]\n",
      "  [0.359401   0.35631067 0.37892792 0.3665319  0.0202847 ]]]\n",
      "(1, 10, 5)\n",
      "(1, 1)\n",
      "[[0.36234188]]\n"
     ]
    }
   ],
   "source": [
    "test_row = X_test[:1]\n",
    "print(test_row)\n",
    "print(test_row.shape)\n",
    "score = loaded_model.predict(test_row)\n",
    "print(score.shape)\n",
    "print(score)"
   ]
  },
  {
   "cell_type": "markdown",
   "metadata": {
    "collapsed": true
   },
   "source": [
    "# So, where to go from here?"
   ]
  },
  {
   "cell_type": "markdown",
   "metadata": {},
   "source": [
    "Well, as you can imagine, this is a simple MANY-TO-ONE prediction. The model is predicting the next Time Step by getting as input a window (sequence) of past measures.\n",
    "This model can be improved by:\n",
    "    1. Making the series stationary and using StandardScaler vs MaxMinScaler\n",
    "    2. Predicting the next N steps (multi-step prediction) by using seq2seq models vs a simple RNN (like above)\n",
    "    3. And the most important of all: Adding more signals/features/columns\n"
   ]
  }
 ],
 "metadata": {
  "kernelspec": {
   "display_name": "Python 3",
   "language": "python",
   "name": "python3"
  },
  "language_info": {
   "codemirror_mode": {
    "name": "ipython",
    "version": 3
   },
   "file_extension": ".py",
   "mimetype": "text/x-python",
   "name": "python",
   "nbconvert_exporter": "python",
   "pygments_lexer": "ipython3",
   "version": "3.5.4"
  },
  "widgets": {
   "state": {},
   "version": "1.1.2"
  }
 },
 "nbformat": 4,
 "nbformat_minor": 2
}
